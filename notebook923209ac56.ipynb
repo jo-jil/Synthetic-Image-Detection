{
 "cells": [
  {
   "cell_type": "code",
   "execution_count": 1,
   "id": "c7f2894e",
   "metadata": {
    "_cell_guid": "94b7ae32-3a72-4c62-b0ab-d3b6bc76fc37",
    "_uuid": "1cb28167-73f1-4e71-8877-18c047a32477",
    "collapsed": false,
    "execution": {
     "iopub.execute_input": "2025-04-26T21:00:43.380652Z",
     "iopub.status.busy": "2025-04-26T21:00:43.380316Z",
     "iopub.status.idle": "2025-04-26T21:01:50.682983Z",
     "shell.execute_reply": "2025-04-26T21:01:50.681345Z"
    },
    "jupyter": {
     "outputs_hidden": false
    },
    "papermill": {
     "duration": 67.308924,
     "end_time": "2025-04-26T21:01:50.685552",
     "exception": false,
     "start_time": "2025-04-26T21:00:43.376628",
     "status": "completed"
    },
    "tags": []
   },
   "outputs": [
    {
     "name": "stdout",
     "output_type": "stream",
     "text": [
      "Found test images in: /kaggle/input/synthetic-2-real-object-detection-challenge-2/Synthetic to Real Object Detection Challenge 2/testImages/images\n",
      "Found 159 test images\n"
     ]
    },
    {
     "name": "stderr",
     "output_type": "stream",
     "text": [
      "/usr/local/lib/python3.11/dist-packages/torchvision/models/_utils.py:208: UserWarning: The parameter 'pretrained' is deprecated since 0.13 and may be removed in the future, please use 'weights' instead.\n",
      "  warnings.warn(\n",
      "/usr/local/lib/python3.11/dist-packages/torchvision/models/_utils.py:223: UserWarning: Arguments other than a weight enum or `None` for 'weights' are deprecated since 0.13 and may be removed in the future. The current behavior is equivalent to passing `weights=EfficientNet_B0_Weights.IMAGENET1K_V1`. You can also use `weights=EfficientNet_B0_Weights.DEFAULT` to get the most up-to-date weights.\n",
      "  warnings.warn(msg)\n",
      "Downloading: \"https://download.pytorch.org/models/efficientnet_b0_rwightman-7f5810bc.pth\" to /root/.cache/torch/hub/checkpoints/efficientnet_b0_rwightman-7f5810bc.pth\n",
      "100%|██████████| 20.5M/20.5M [00:00<00:00, 152MB/s]\n"
     ]
    },
    {
     "name": "stdout",
     "output_type": "stream",
     "text": [
      "Creating dummy classifier (replace with your trained model in production)\n",
      "✅ Submission file created successfully\n"
     ]
    }
   ],
   "source": [
    "import os\n",
    "import pandas as pd\n",
    "import numpy as np\n",
    "from PIL import Image\n",
    "import torch\n",
    "import torchvision.models as models\n",
    "import torchvision.transforms as transforms\n",
    "from sklearn.ensemble import RandomForestClassifier\n",
    "from sklearn.model_selection import train_test_split\n",
    "from sklearn.metrics import accuracy_score\n",
    "\n",
    "# Configuration\n",
    "DEVICE = torch.device('cuda' if torch.cuda.is_available() else 'cpu')\n",
    "BATCH_SIZE = 32\n",
    "IMAGE_SIZE = 224\n",
    "NUM_CLASSES = 2  # Real (0) vs AI (1)\n",
    "\n",
    "def find_test_images(root_path='/kaggle/input'):\n",
    "    \"\"\"Find directory containing test images\"\"\"\n",
    "    for dirname, _, filenames in os.walk(root_path):\n",
    "        if any(fname.lower().endswith(('.jpg', '.jpeg', '.png')) for fname in filenames):\n",
    "            print(f\"Found test images in: {dirname}\")\n",
    "            return dirname\n",
    "    raise FileNotFoundError(f\"No test images found under {root_path}\")\n",
    "\n",
    "def load_and_preprocess_image(image_path, transform):\n",
    "    \"\"\"Load and preprocess single image\"\"\"\n",
    "    try:\n",
    "        image = Image.open(image_path).convert('RGB')\n",
    "        return transform(image)\n",
    "    except Exception as e:\n",
    "        print(f\"Error loading {image_path}: {str(e)}\")\n",
    "        return None\n",
    "\n",
    "def extract_features(image_paths, model, transform):\n",
    "    \"\"\"Extract features using pre-trained CNN\"\"\"\n",
    "    features = []\n",
    "    valid_paths = []\n",
    "    \n",
    "    model.eval()\n",
    "    with torch.no_grad():\n",
    "        for path in image_paths:\n",
    "            img_tensor = load_and_preprocess_image(path, transform)\n",
    "            if img_tensor is not None:\n",
    "                img_tensor = img_tensor.unsqueeze(0).to(DEVICE)\n",
    "                feature = model(img_tensor).cpu().numpy().flatten()\n",
    "                features.append(feature)\n",
    "                valid_paths.append(path)\n",
    "    \n",
    "    return np.array(features), valid_paths\n",
    "\n",
    "def main():\n",
    "    # Find test images\n",
    "    test_dir = find_test_images()\n",
    "    test_images = [os.path.join(test_dir, f) for f in os.listdir(test_dir) \n",
    "                  if f.lower().endswith(('.jpg', '.jpeg', '.png'))]\n",
    "    \n",
    "    if not test_images:\n",
    "        raise ValueError(\"No valid test images found\")\n",
    "    \n",
    "    print(f\"Found {len(test_images)} test images\")\n",
    "\n",
    "    # Load pre-trained model (EfficientNet works well for this task)\n",
    "    feature_extractor = models.efficientnet_b0(pretrained=True)\n",
    "    feature_extractor.classifier = torch.nn.Identity()  # Remove final classification layer\n",
    "    feature_extractor = feature_extractor.to(DEVICE)\n",
    "    \n",
    "    # Image transformations\n",
    "    transform = transforms.Compose([\n",
    "        transforms.Resize((IMAGE_SIZE, IMAGE_SIZE)),\n",
    "        transforms.ToTensor(),\n",
    "        transforms.Normalize(mean=[0.485, 0.456, 0.406], std=[0.229, 0.224, 0.225])\n",
    "    ])\n",
    "    \n",
    "    # Extract features from test images\n",
    "    test_features, valid_paths = extract_features(test_images, feature_extractor, transform)\n",
    "    \n",
    "    # Load trained classifier (in a real scenario, you'd have this pre-trained)\n",
    "    # For demo purposes, we'll create a dummy classifier - in practice you should:\n",
    "    # 1. Train on a dataset like Real vs AI images\n",
    "    # 2. Save the trained model\n",
    "    # 3. Load it here\n",
    "    print(\"Creating dummy classifier (replace with your trained model in production)\")\n",
    "    classifier = RandomForestClassifier(n_estimators=100)\n",
    "    \n",
    "    # Dummy training data - REPLACE WITH YOUR ACTUAL TRAINING DATA\n",
    "    # This is just for demonstration - you should train on proper datasets\n",
    "    dummy_features = np.random.rand(100, test_features.shape[1])\n",
    "    dummy_labels = np.random.randint(0, 2, 100)\n",
    "    classifier.fit(dummy_features, dummy_labels)\n",
    "    \n",
    "    # Predict on test images\n",
    "    test_preds = classifier.predict_proba(test_features)\n",
    "    \n",
    "    # Prepare submission\n",
    "    submission = []\n",
    "    for path, probs in zip(valid_paths, test_preds):\n",
    "        image_id = os.path.splitext(os.path.basename(path))[0]\n",
    "        confidence = np.round(probs[1], 6)  # Probability it's AI-generated\n",
    "        \n",
    "        # For object detection tasks, you might want bounding boxes\n",
    "        # Here we'll just use the whole image area\n",
    "        prediction_string = f\"1 {confidence} 0.5 0.5 1.0 1.0\"  # class, conf, x,y,w,h\n",
    "        \n",
    "        submission.append({\n",
    "            \"image_id\": image_id,\n",
    "            \"prediction_string\": prediction_string\n",
    "        })\n",
    "    \n",
    "    # Create DataFrame and save\n",
    "    submission_df = pd.DataFrame(submission)\n",
    "    submission_df.to_csv('/kaggle/working/submission.csv', index=False)\n",
    "    print(\"✅ Submission file created successfully\")\n",
    "\n",
    "if __name__ == \"__main__\":\n",
    "    main()"
   ]
  }
 ],
 "metadata": {
  "kaggle": {
   "accelerator": "none",
   "dataSources": [
    {
     "databundleVersionId": 11843845,
     "sourceId": 99173,
     "sourceType": "competition"
    }
   ],
   "dockerImageVersionId": 31012,
   "isGpuEnabled": false,
   "isInternetEnabled": true,
   "language": "python",
   "sourceType": "notebook"
  },
  "kernelspec": {
   "display_name": "Python 3",
   "language": "python",
   "name": "python3"
  },
  "language_info": {
   "codemirror_mode": {
    "name": "ipython",
    "version": 3
   },
   "file_extension": ".py",
   "mimetype": "text/x-python",
   "name": "python",
   "nbconvert_exporter": "python",
   "pygments_lexer": "ipython3",
   "version": "3.11.11"
  },
  "papermill": {
   "default_parameters": {},
   "duration": 75.23793,
   "end_time": "2025-04-26T21:01:53.585808",
   "environment_variables": {},
   "exception": null,
   "input_path": "__notebook__.ipynb",
   "output_path": "__notebook__.ipynb",
   "parameters": {},
   "start_time": "2025-04-26T21:00:38.347878",
   "version": "2.6.0"
  }
 },
 "nbformat": 4,
 "nbformat_minor": 5
}
